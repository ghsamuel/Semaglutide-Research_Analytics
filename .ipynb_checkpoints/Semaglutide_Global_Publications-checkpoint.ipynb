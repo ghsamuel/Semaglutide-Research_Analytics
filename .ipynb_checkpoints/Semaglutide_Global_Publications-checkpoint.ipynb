{
 "cells": [
  {
   "cell_type": "markdown",
   "id": "64075add",
   "metadata": {},
   "source": [
    "# Data Analytics Project to Understand the Research Landscape of Semaglutide- A weight loss drug- using publicly available data. "
   ]
  },
  {
   "cell_type": "markdown",
   "id": "08530105",
   "metadata": {},
   "source": [
    "This Project used data from pubmed.gov and clinicaltrials.gov to study the research landscape of Semaglutide, a diabetic medication and a popular weight loss drug. This data is from 2023 and prior. Some of the key questions this analytics project seeks to answer: Who are the key research institutions working on  semaglutide around the world? Which centers are driving both clinical trials and peer-reviewed research on this medication? Which countries have the most research and clinical trials in this space. "
   ]
  },
  {
   "cell_type": "code",
   "execution_count": 1,
   "id": "4e9a0ed3",
   "metadata": {},
   "outputs": [
    {
     "ename": "ModuleNotFoundError",
     "evalue": "No module named 'fuzzy_pandas'",
     "output_type": "error",
     "traceback": [
      "\u001b[0;31m---------------------------------------------------------------------------\u001b[0m",
      "\u001b[0;31mModuleNotFoundError\u001b[0m                       Traceback (most recent call last)",
      "Cell \u001b[0;32mIn[1], line 7\u001b[0m\n\u001b[1;32m      5\u001b[0m \u001b[38;5;28;01mimport\u001b[39;00m \u001b[38;5;21;01mplotly\u001b[39;00m\u001b[38;5;21;01m.\u001b[39;00m\u001b[38;5;21;01mexpress\u001b[39;00m \u001b[38;5;28;01mas\u001b[39;00m \u001b[38;5;21;01mpx\u001b[39;00m\n\u001b[1;32m      6\u001b[0m \u001b[38;5;28;01mimport\u001b[39;00m \u001b[38;5;21;01mfolium\u001b[39;00m\n\u001b[0;32m----> 7\u001b[0m \u001b[38;5;28;01mimport\u001b[39;00m \u001b[38;5;21;01mfuzzy_pandas\u001b[39;00m \u001b[38;5;28;01mas\u001b[39;00m \u001b[38;5;21;01mfpd\u001b[39;00m\n",
      "\u001b[0;31mModuleNotFoundError\u001b[0m: No module named 'fuzzy_pandas'"
     ]
    }
   ],
   "source": [
    "import pandas as pd\n",
    "import numpy as np\n",
    "import matplotlib.pyplot as plt\n",
    "import networkx as nx\n",
    "import plotly.express as px\n",
    "import folium\n",
    "import fuzzy_pandas as fpd\n",
    "\n",
    "\n"
   ]
  },
  {
   "cell_type": "markdown",
   "id": "6a216224",
   "metadata": {},
   "source": [
    "## Load and preprocess data - drop duplicates , remove spaces"
   ]
  },
  {
   "cell_type": "code",
   "execution_count": 3,
   "id": "59ddc330",
   "metadata": {},
   "outputs": [],
   "source": [
    "\n",
    "countries = pd.read_excel(\"data/Semaglutide_pubmed_country.xlsx\", sheet_name=\"codes\", engine=\"openpyxl\")\n",
    "df = pd.read_excel(\"data/World_semaglutide_Brooke_18May2023_v1.xlsx\", sheet_name=\"World Pubs\")\n",
    "\n",
    "\n",
    "df = df.drop_duplicates(subset=[\"PMID\", \"Centers\"])\n",
    "df = df[[\"PMID\", \"FullName\", \"Centers\", \"FinalCountry\", \"COIS\", \"COIS Novo\", \"JT\", \"AT\", \"PT\", \"PubDate\"]]\n",
    "df = df.replace(r\"^ +| +$\", r\"\", regex=True)\n",
    "df = df[df[\"Centers\"] != \"none\"]\n",
    "df[\"FinalCountry\"] = df[\"FinalCountry\"].astype(str)\n",
    "\n"
   ]
  },
  {
   "cell_type": "markdown",
   "id": "4f762ff7",
   "metadata": {},
   "source": [
    "## Classify Publication types"
   ]
  },
  {
   "cell_type": "code",
   "execution_count": null,
   "id": "ca0a4642",
   "metadata": {},
   "outputs": [],
   "source": [
    "\n",
    "guidelines = ['Guideline', 'Congress', \"Consensus\"]\n",
    "trials = [\"Trial\", \"Research\", \"Study\"]\n",
    "\n",
    "df[\"PubType\"] = np.where(df['PT'].str.contains('|'.join(guidelines), case=False, na=False), 'Guideline',\n",
    "                  np.where(df['PT'].str.contains('|'.join(trials), case=False, na=False), 'Trial', 'Journal Article'))\n",
    "\n"
   ]
  },
  {
   "cell_type": "markdown",
   "id": "343d7d20",
   "metadata": {},
   "source": [
    "## Fuzzy matching to match countries with publications"
   ]
  },
  {
   "cell_type": "code",
   "execution_count": null,
   "id": "674fc28b",
   "metadata": {},
   "outputs": [],
   "source": [
    "\n",
    "df_country_counts = df[\"FinalCountry\"].value_counts().reset_index().rename(columns={\"index\": \"FinalCountry\", \"FinalCountry\": \"count\"})\n",
    "df2 = fpd.fuzzy_merge(df_country_counts, countries, left_on=[\"FinalCountry\"], right_on=[\"name\"], threshold=0.8, method=\"levenshtein\")\n",
    "df3 = fpd.fuzzy_merge(df, countries, left_on=[\"FinalCountry\"], right_on=[\"name\"], threshold=0.9, method=\"levenshtein\")\n",
    "\n",
    "df3 = df3.drop_duplicates(subset=[\"FullName\", \"Centers\", \"PMID\"])\n",
    "df4 = df3.groupby([\"FinalCountry\", \"Centers\", \"PubType\"]).size().unstack('PubType', fill_value=0).reset_index()\n",
    "\n"
   ]
  },
  {
   "cell_type": "markdown",
   "id": "d97a2c4f",
   "metadata": {},
   "source": [
    "### The United States, United Kingdom and China are the major countries involved in Semaglutide Research"
   ]
  },
  {
   "cell_type": "code",
   "execution_count": null,
   "id": "9bfe7e31",
   "metadata": {},
   "outputs": [],
   "source": [
    "# Top countries based on publications\n",
    "top_countries = df4[\"FinalCountry\"].value_counts().head(10).index\n",
    "df_bar = df4[df4[\"FinalCountry\"].isin(top_countries)].groupby(\"FinalCountry\").sum().reset_index()\n",
    "\n",
    "fig = px.bar(df_bar, x=\"FinalCountry\", y=[\"Journal Article\", \"Trial\", \"Guideline\"],\n",
    "             title=\"Top Countries by Publication Type\", barmode=\"group\")\n",
    "fig.show()"
   ]
  },
  {
   "cell_type": "markdown",
   "id": "5d49859e",
   "metadata": {},
   "source": [
    "### Distribution of Publication types - Journal Articles  and Trials are the major publications"
   ]
  },
  {
   "cell_type": "code",
   "execution_count": null,
   "id": "b43058dd",
   "metadata": {},
   "outputs": [],
   "source": [
    "#Distribution of Publication Type\n",
    "pub_counts = df[\"PubType\"].value_counts().reset_index()\n",
    "pub_counts.columns = [\"Publication Type\", \"Count\"]\n",
    "\n",
    "fig = px.pie(pub_counts, values=\"Count\", names=\"Publication Type\", \n",
    "             title=\"Overall Distribution of Publication Types\", \n",
    "             hole=0.4)  # donut style\n",
    "fig.show()\n"
   ]
  },
  {
   "cell_type": "code",
   "execution_count": null,
   "id": "f1b0e7c8",
   "metadata": {},
   "outputs": [],
   "source": []
  },
  {
   "cell_type": "code",
   "execution_count": null,
   "id": "d5f7c08e",
   "metadata": {},
   "outputs": [],
   "source": [
    "top_countries = df[\"FinalCountry\"].value_counts().head(15).reset_index()\n",
    "top_countries.columns = [\"Country\", \"Publications\"]\n",
    "\n",
    "fig = px.bar(top_countries, x=\"Country\", y=\"Publications\",\n",
    "             title=\"Top 15 Countries by Semaglutide Publications\")\n",
    "fig.show()"
   ]
  },
  {
   "cell_type": "markdown",
   "id": "fdb6d28d",
   "metadata": {},
   "source": [
    "### Sharp Increase in Semaglutide publications from 2016-2022. The data is from mid way of 2023, so it looks like publications are decreasing. "
   ]
  },
  {
   "cell_type": "code",
   "execution_count": null,
   "id": "4205c17f",
   "metadata": {},
   "outputs": [],
   "source": [
    "df[\"PubYear\"] = pd.to_datetime(df[\"PubDate\"], errors='coerce').dt.year\n",
    "yearly_trend = df.groupby(\"PubYear\")[\"PMID\"].count().reset_index()\n",
    "yearly_trend.columns = [\"Year\", \"Publications\"]\n",
    "\n",
    "fig = px.line(yearly_trend, x=\"Year\", y=\"Publications\", \n",
    "              markers=True, title=\"Publications Over Time\")\n",
    "fig.show()\n"
   ]
  },
  {
   "cell_type": "markdown",
   "id": "44d2195b",
   "metadata": {},
   "source": [
    "### Interactive Map that shows countries and publications. The bubble size is indicative of number of publications. Click on the bubbles to see the centers in each country as well as counts of publications. "
   ]
  },
  {
   "cell_type": "code",
   "execution_count": null,
   "id": "c0b97d00",
   "metadata": {},
   "outputs": [],
   "source": [
    "n = folium.Map(location=[20, 0], tiles=\"cartodb positron\", zoom_start=2)\n",
    "\n",
    "for i in range(len(df2)):\n",
    "    country = df2.iloc[i]['name']\n",
    "    lat = df2.iloc[i]['latitude']\n",
    "    lon = df2.iloc[i]['longitude']\n",
    "    color = df2.iloc[i]['bins']\n",
    "    count = df2.iloc[i]['count']\n",
    "    \n",
    "    center_data = df3[df3[\"name\"] == country][[\"Centers\", \"PubType\"]].drop_duplicates()\n",
    "    pub_counts = df3[df3[\"name\"] == country][\"PubType\"].value_counts().to_dict()\n",
    "    \n",
    "    popup_html = f\"\"\"\n",
    "    <div style='font-family: Arial; font-size: 12px'>\n",
    "        <h4 style='color:#466964'>{country}</h4>\n",
    "        <p><b>Centers:</b></p>\n",
    "        <ul>\n",
    "            {''.join([f\"<li>{c}</li>\" for c in center_data['Centers'].unique()[:5]])}\n",
    "        </ul>\n",
    "        <p><b>Publications:</b></p>\n",
    "        <ul>\n",
    "            <li>Journal Articles: {pub_counts.get('Journal Article', 0)}</li>\n",
    "            <li>Trials: {pub_counts.get('Trial', 0)}</li>\n",
    "            <li>Guidelines: {pub_counts.get('Guideline', 0)}</li>\n",
    "        </ul>\n",
    "    </div>\n",
    "    \"\"\"\n",
    "    \n",
    "    iframe = folium.IFrame(html=popup_html, width=300, height=250)\n",
    "    popup = folium.Popup(iframe, max_width=300)\n",
    "\n",
    "    folium.CircleMarker(\n",
    "        location=[lat, lon],\n",
    "        popup=popup,\n",
    "        radius=max(3, count * 0.035),\n",
    "        weight=0,  # 👈 No border\n",
    "        fill=True,\n",
    "        fill_opacity=0.7,\n",
    "        fill_color=color\n",
    "    ).add_to(n)\n",
    "\n",
    "n\n"
   ]
  },
  {
   "cell_type": "markdown",
   "id": "8baeaba9",
   "metadata": {},
   "source": [
    "### Conclusions: \n",
    "1. There is a sharp increase in publications and trials on semaglutide since 2016. This is due to its use as a diabetic drug as well as more recently weightloss\n",
    "2. The countries majorly involved in semaglutide research are the USA, UK, China and Denmark. This is based on publication and clinical trial numbers. \n",
    "3.The published work includes journal articles - 54%, clinical trial publications 45% and guidelines 0.3 percent. "
   ]
  },
  {
   "cell_type": "code",
   "execution_count": null,
   "id": "95fbd1ac",
   "metadata": {},
   "outputs": [],
   "source": []
  }
 ],
 "metadata": {
  "kernelspec": {
   "display_name": "Python 3 (ipykernel)",
   "language": "python",
   "name": "python3"
  },
  "language_info": {
   "codemirror_mode": {
    "name": "ipython",
    "version": 3
   },
   "file_extension": ".py",
   "mimetype": "text/x-python",
   "name": "python",
   "nbconvert_exporter": "python",
   "pygments_lexer": "ipython3",
   "version": "3.10.9"
  }
 },
 "nbformat": 4,
 "nbformat_minor": 5
}
