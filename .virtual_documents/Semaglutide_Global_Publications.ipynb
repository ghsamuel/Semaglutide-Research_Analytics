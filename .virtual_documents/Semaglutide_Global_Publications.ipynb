





import pandas as pd
import numpy as np
import matplotlib.pyplot as plt
import networkx as nx
import plotly.express as px
import folium
import fuzzy_pandas as fpd









countries = pd.read_excel("data/Semaglutide_pubmed_country.xlsx", sheet_name="codes", engine="openpyxl")
df = pd.read_excel("data/World_semaglutide_Brooke_18May2023_v1.xlsx", sheet_name="World Pubs")


df = df.drop_duplicates(subset=["PMID", "Centers"])
df = df[["PMID", "FullName", "Centers", "FinalCountry", "COIS", "COIS Novo", "JT", "AT", "PT", "PubDate"]]
df = df.replace(r"^ +| +$", r"", regex=True)
df = df[df["Centers"] != "none"]
df["FinalCountry"] = df["FinalCountry"].astype(str)








guidelines = ['Guideline', 'Congress', "Consensus"]
trials = ["Trial", "Research", "Study"]

df["PubType"] = np.where(df['PT'].str.contains('|'.join(guidelines), case=False, na=False), 'Guideline',
                  np.where(df['PT'].str.contains('|'.join(trials), case=False, na=False), 'Trial', 'Journal Article'))







from rapidfuzz import process, fuzz

def fuzzy_merge(left, right, left_on, right_on, threshold):
    choices = right[right_on].dropna().tolist()
    def match_func(x):
        m = process.extractOne(x, choices, scorer=fuzz.ratio, score_cutoff=threshold)
        return m[0] if m else None
    left["match"] = left[left_on].apply(match_func)
    merged = left.merge(right, left_on="match", right_on=right_on, how="left", validate='m:1')
    return merged



pip install rapidfuzz





# Top countries based on publications
top_countries = df4["FinalCountry"].value_counts().head(10).index
df_bar = df4[df4["FinalCountry"].isin(top_countries)].groupby("FinalCountry").sum().reset_index()

fig = px.bar(df_bar, x="FinalCountry", y=["Journal Article", "Trial", "Guideline"],
             title="Top Countries by Publication Type", barmode="group")
fig.show()





#Distribution of Publication Type
pub_counts = df["PubType"].value_counts().reset_index()
pub_counts.columns = ["Publication Type", "Count"]

fig = px.pie(pub_counts, values="Count", names="Publication Type", 
             title="Overall Distribution of Publication Types", 
             hole=0.4)  # donut style
fig.show()






top_countries = df["FinalCountry"].value_counts().head(15).reset_index()
top_countries.columns = ["Country", "Publications"]

fig = px.bar(top_countries, x="Country", y="Publications",
             title="Top 15 Countries by Semaglutide Publications")
fig.show()





df["PubYear"] = pd.to_datetime(df["PubDate"], errors='coerce').dt.year
yearly_trend = df.groupby("PubYear")["PMID"].count().reset_index()
yearly_trend.columns = ["Year", "Publications"]

fig = px.line(yearly_trend, x="Year", y="Publications", 
              markers=True, title="Publications Over Time")
fig.show()






df2 = df2[df2["latitude"].notna() & df2["longitude"].notna()]

bin_colors = {
    "Very Low": "#a8e6cf",
    "Low": "#81c784",
    "Medium": "#4db6ac",
    "High": "#26a69a",
    "Very High": "#00796b"
}



n = folium.Map(location=[20, 0], tiles="cartodb positron", zoom_start=2)

for i in range(len(df2)):
    country = df2.iloc[i]['name']
    lat = df2.iloc[i]['latitude']
    lon = df2.iloc[i]['longitude']
    color = bin_colors.get(df2.iloc[i]['bins'], "#4db6ac")
    count = df2.iloc[i]['count']
    
    center_data = df3[df3["name"] == country][["Centers", "PubType"]].drop_duplicates()
    pub_counts = df3[df3["name"] == country]["PubType"].value_counts().to_dict()
    
    popup_html = f"""
    <div style='font-family: Arial; font-size: 12px'>
        <h4 style='color:#466964'>{country}</h4>
        <p><b>Centers:</b></p>
        <ul>
            {''.join([f"<li>{c}</li>" for c in center_data['Centers'].unique()[:5]])}
        </ul>
        <p><b>Publications:</b></p>
        <ul>
            <li>Journal Articles: {pub_counts.get('Journal Article', 0)}</li>
            <li>Trials: {pub_counts.get('Trial', 0)}</li>
            <li>Guidelines: {pub_counts.get('Guideline', 0)}</li>
        </ul>
    </div>
    """
    
    iframe = folium.IFrame(html=popup_html, width=300, height=250)
    popup = folium.Popup(iframe, max_width=300)

    folium.CircleMarker(
        location=[lat, lon],
        popup=popup,
        radius=max(3, count * 0.035),
        weight=0,  # 👈 No border
        fill=True,
        fill_opacity=0.7,
        fill_color=color
    ).add_to(n)

n







